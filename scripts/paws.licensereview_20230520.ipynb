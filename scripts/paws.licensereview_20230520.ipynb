# https://hub-paws.wmcloud.org/user/Zache/lab/tree/licensereview_20230520.ipynb

import requests
import json
import pywikibot
import re
import time
from datetime import datetime

filelist="""
0E4A8666.png
0E4A8674.png
0E4A8681.png
0E4A8692.png
24-1.png
24-2.png
24-3.png
24-4.png
441A0711.png
441A0718.png
441A3692.png
441A3702.png
441A3716.png
48012937666_d4812ccfab_k.png
48012938366_83d03d7916_5k.png
48013026557_0e61a02443_6k.png
48013026672_85132c0d77_5k.png
663A0673.png
663A0678.png
663A0684.png
663A0698.png
663A1082.png
663A1083.png
663A1106.png
663A1108.png
6W6A0073.png
6W6A1224.png
6W6A1227.png
6W6A1231.png
6W6A1247.png
6W6A1249.png
6W6A1253.png
6W6A1258.png
6W6A2785.png
6W6A2801.png
6W6A2806.png
6W6A2812.png
6W6A2814.png
6W6A2815.png
6W6A2822.png
6W6A2832.png
6W6A2838.png
6W6A2847.png
6W6A2854.png
6W6A2864.png
6W6A2871.png
6W6A2872.png
6W6A2874.png
6W6A2886.png
6W6A2895.png
6W6A2903.png
6W6A2910.png
6W6A2922.png
6W6A2927.png
6W6A2928.png
6W6A2931.png
6W6A3264.png
6W6A3267.png
6W6A3272.png
6W6A3277.png
6W6A3302.png
6W6A3307.png
6W6A3308.png
6W6A8695.png
6W6A8705.png
6W6A8711.png
6W6A8714.png
6W6A8719.png
6W6A8738.png
6W6A8743.png
6W6A8747.png
6W6A8762.png
6W6A8763.png
6W6A8772.png
6W6A8776.png
6W6A8806.png
6W6A8815.png
6W6A8834.png
6W6A8941.png
6W6A8947.png
6W6A8952.png
6W6A8954.png
6W6A8961.png
6W6A8966.png
6W6A8967.png
6W6A8970.png
6W6A8972.png
6W6A8974.png
6W6A8980.png
6W6A8991.png
6W6A8998.png
6W6A9001.png
6W6A9005.png
6W6A9020.png
6W6A9023.png
6W6A9025.png
6W6A9027.png
6W6A9037.png
6W6A9046.png
Antti-Rinne-11.png
Antti-Rinne-2.png
Antti-Rinne-3.png
Antti-Rinne-4.png
Antti-Rinne-5.png
Antti-Rinne-6.png
Antti-Rinne-7.png
Antti-Rinne-8.png
Antti-Rinne-9.png
Blomqvist-10.png
Blomqvist-11.png
Blomqvist-2.png
Blomqvist-3.png
Blomqvist-4.png
Blomqvist-5.png
Blomqvist-6.png
Blomqvist-7.png
Blomqvist-8.png
Blomqvist-9.png
Blomqvist.png
BrandPhoto_VilleSkinnari_PREMIUM_0001.png
BrandPhoto_VilleSkinnari_PREMIUM_0005.png
BrandPhoto_VilleSkinnari_PREMIUM_0007.png
BrandPhoto_VilleSkinnari_PREMIUM_0017.png
BrandPhoto_VilleSkinnari_PREMIUM_0022.png
BrandPhoto_VilleSkinnari_PREMIUM_0023.png
Dimitri-Qvintus-9885.png
Dimitri-Qvintus-9896.png
Dimitri-Qvintus-9922.png
Dimitri-Qvintus.png
Harakka-1.png
Harakka-10.png
Harakka-11.png
Harakka-12.png
Harakka-2.png
Harakka-3.png
Harakka-4.png
Harakka-5.png
Harakka-6.png
Harakka-7.png
Harakka-8.png
Harakka-9.png
Jari Leppä (1).png
Jari Leppä (10).png
Jari Leppä (11).png
Jari Leppä (2).png
Jari Leppä (3).png
Jari Leppä (4).png
Jari Leppä (5).png
Jari Leppä (6).png
Jari Leppä (7).png
Jari Leppä (8).png
Jari Leppä (9).png
Krista-Mikkonen--10.png
Krista-Mikkonen--12.png
Krista-Mikkonen--13.png
Krista-Mikkonen--2.png
Krista-Mikkonen--4.png
Krista-Mikkonen--5.png
Krista-Mikkonen--6.png
Krista-Mikkonen--7.png
Krista-Mikkonen--8.png
Krista-Mikkonen--9.png
Kurvinen.png
Kuvapankki.png
Li-Andersson-1.png
Li-Andersson-10.png
Li-Andersson-2.png
Li-Andersson-3.png
Li-Andersson-4.png
Li-Andersson-5.png
Li-Andersson-6.png
Li-Andersson-7.png
Li-Andersson-8.png
Li-Andersson-9.png
Maria-Ohisalo-441A3276.png
Maria-Ohisalo-441A3286.png
Maria-Ohisalo-441A3324.png
Maria-Ohisalo-441A3334.png
Maria-Ohisalo-441A3398.png
Maria-Ohisalo-441A3412.png
Marin-0568-.png
Marin-0570-.png
Marin-Kesäranta-1596.png
Mika-Lintilä-1.png
Mika-Lintilä-2.png
Mika-Lintilä-3.png
Mika-Lintilä-4.png
Mika-Lintilä-6.png
Mika-Lintilä-7.png
Mika-Lintilä-8.png
Mika-Lintilä-9.png
Mikko-Savola_441A8428.png
Mikko-Savola_441A8432.png
Mikko-Savola_441A8440.png
Mikko-Savola_441A8473.png
Mikko-Savola_441A8492.png
Mikko-Savola_441A8503.png
Mikko-Savola_441A8505.png
Mikko-Savola_441A8514.png
O45A0206.png
O45A0208.png
O45A0210.png
O45A0311.png
O45A0315.png
O45A0322.png
O45A0325.png
O45A0331-3.png
O45A0337.png
O45A0342.png
O45A0360.png
O45A0363.png
O45A0380.png
O45A0383.png
O45A0387.png
O45A0431.png
O45A0435.png
O45A0605.png
O45A9548.png
O45A9595.png
O45A9621.png
O45A9625.png
O45A9648.png
O45A9654.png
O45A9657.png
O45A9673.png
O45A9849.png
O45A9898.png
O45A9907.png
O45A9918.png
O45A9956.png
O45A9995.png
Sanna-Marin-1-.png
Sanna-Marin-10.png
Sanna-Marin-11.png
Sanna-Marin-2-.png
Sanna-Marin-3-.png
Sanna-Marin-4-.png
Sanna-Marin-5-.png
Sanna-Marin-6-.png
Sanna-Marin-7-.png
Sanna-Marin-8-.png
Sanna-Marin-8527.png
Sanna-Marin-9-.png
Sirpa-Paater-0388.png
Sirpa-Paater-0399.png
Sirpa-Paater-0469.png
Skinnari-1.png
Skinnari-2.png
Skinnari-3.png
Skinnari-4.png
Skinnari-5.png
Skinnari-7.png
Skinnari-8.png
Skinnari-9.png
Terhi-Lehtonen-1.png
Terhi-Lehtonen-2.png
Terhi-Lehtonen-3.png
Terhi-Lehtonen-4.png
Terhi-Lehtonen-5.png
Tuula-Haatainen (1).png
Tuula-Haatainen (10).png
Tuula-Haatainen (11).png
Tuula-Haatainen (12).png
Tuula-Haatainen (2).png
Tuula-Haatainen (3).png
Tuula-Haatainen (4).png
Tuula-Haatainen (5).png
Tuula-Haatainen (6).png
Tuula-Haatainen (7).png
Tuula-Haatainen (8).png
Tuula-Haatainen (9).png
Tyopoyta2.png
Ukona-jakku.png
Ulkona1.png
Ulkona2.png
aino-kaisa-pekonen--10.png
aino-kaisa-pekonen--12.png
aino-kaisa-pekonen--2.png
aino-kaisa-pekonen--3.png
aino-kaisa-pekonen--6.png
aino-kaisa-pekonen--7.png
aino-kaisa-pekonen--8.png
aino-kaisa-pekonen--9.png
aino-kaisa-pekonen-.png
aino-kaisa-pekonen-9560.png
aino-kaisa-pekonen-9577.png
aino-kaisa-pekonen-9641.png
aino-kaisa-pekonen-9663.png
aino-kaisa-pekonen-9822.png
aino-kaisa-pekonen-9847.png
anna-maja-henriksson-1.png
anna-maja-henriksson-2.png
anna-maja-henriksson-3.png
anna-maja-henriksson-4.png
anna-maja-henriksson-5.png
anna-maja-henriksson-6.png
anna-maja-henriksson-7.png
antti-kaikkonen--10.png
antti-kaikkonen--11.png
antti-kaikkonen--13.png
antti-kaikkonen--14.png
antti-kaikkonen--16.png
antti-kaikkonen--17.png
antti-kaikkonen--4.png
antti-kaikkonen--5.png
antti-kaikkonen--7.png
antti-kaikkonen--8.png
antti-kaikkonen--9.png
antti-kurvinen--2.png
antti-kurvinen--3.png
emma-kari-1.png
emma-kari-2.png
emma-kari-3.png
emma-kari-4.png
emma-kari-5.png
emma-kari-6.png
emma-kari-7.png
eu-ministerivaliokunta-1112019_48994049198_o.png
eu-ministerivaliokunta-1112019_48994049433_o.png
eu-ministerivaliokunta-1112019_48994049618_o.png
eu-ministerivaliokunta-1112019_48994049683_o.png
eu-ministerivaliokunta-1112019_48994596681_o.png
eu-ministerivaliokunta-1112019_48994596976_o.png
eu-ministerivaliokunta-1112019_48994792522_o.png
eu-ministerivaliokunta-1112019_48994792707_o.png
eu-ministerivaliokunta-1112019_48994793192_o.png
eu-ministerivaliokunta-1112019_48994793282_o.png
honkonen-k--2.png
honkonen-k-.png
honkonen-k-0140.png
honkonen-k-0236.png
honkonen-k-0261.png
honkonen-k-0282.png
honkonen-k-0288.png
honkonen-k-0316.png
honkonen-k-0356.png
honkonen-k-0360.png
honkonen-k-0379.png
iida-vallin-2833.png
iida-vallin-2838.png
jari-leppä-8716.png
jari-leppä-8738.png
jari-leppä-8749.png
jari-leppä-8777.png
jari-leppä-8863.png
jari-leppä-8888.png
jari-leppä-8896.png
jari-leppä-8913.png
jari-leppä-8940.png
katri-kulmuni--2.png
katri-kulmuni--4.png
katri-kulmuni--5.png
katri-kulmuni--6.png
katri-kulmuni--7.png
katri-kulmuni--8.png
katri-kulmuni--9.png
katri-kulmuni-.png
li kuva 1 - muokattu .png
li kuva 2 - muokattu.png
li kuva 3 - muokattu.png
li kuva 4 - muokattu.png
li kuva 5 - muokattu.png
li kuva 6 - muokattu.png
li-andersson-galleria-.png
m--10.png
m--12.png
m--13.png
m--14.png
m--16.png
m--17.png
m--2.png
m--3.png
m--6.png
m--7.png
m--8.png
m--9.png
m-.png
m-2.png
m-7229.png
m-7235.png
m-7311.png
m-7372.png
m-7386.png
m-7399.png
m-7403.png
m-7413.png
m-7454.png
m-7460.png
m-7466.png
m-7521.png
maria-ohisalo-0133.png
matti-vanhanen-9946.png
matti-vanhanen-9951.png
matti-vanhanen-9956.png
matti-vanhanen-9958.png
matti-vanhanen-9960.png
matti-vanhanen-b-9932.png
paatero-.png
pekka-haavisto-6578-2.png
pekka-haavisto-6583-2.png
pekka-haavisto-6598-2.png
pekka-haavisto-6645.png
pekka-haavisto-6685.png
pekka-haavisto-6695.png
pekka-haavisto-6713.png
pekonen-.png
polloseina.png
sirpa-paatero--2.png
sirpa-paatero--3.png
sirpa-paatero--4.png
sirpa-paatero--5.png
sirpa-paatero-0455.png
sirpa-paatero-0464.png
sirpa-paatero-0494.png
sirpa-paatero-0542.png
sirpa-paatero-1.png
sirpa-paatero-2.png
sirpa-paatero-3.png
sirpa-paatero-4.png
sirpa-paatero-5.png
sirpa-paatero-6.png
sirpa-paatero-7.png
tytti-tuppurainen--10.png
tytti-tuppurainen--11.png
tytti-tuppurainen--2.png
tytti-tuppurainen--5.png
tytti-tuppurainen--6.png
tytti-tuppurainen--7.png
tytti-tuppurainen--8.png
tytti-tuppurainen--9.png
valtioneuvoston-yleisistunto-1.docx.png
valtioneuvoston-yleisistunto-2.png
valtioneuvoston-yleisistunto-3.png
viisikko-A-2.png
viisikko-B-2.png
viisikko-C-.png
"""

def kuvapankkiPublicLogin():
    # Define the login URL
    login_url = "http://kuvapankki.valtioneuvosto.fi/avoin_en"

    # Send a GET request to the login URL
    response = session.get(login_url)

    # Check the response
    if response.status_code == 200:
        print("Successfully connected to the kuvapankki.valtioneuvosto.fi")
    else:
        print("Failed to connect to the site.")
    
    # Get the emmisid cookie
    emmisid = session.cookies.get('emmisid')
           
    if emmisid is None:
        print("Failed to get the 'emmisid' cookie.")
        exit(1)
    return emmisid

def kuvapankkiSearchFiles(searchtext):
    # Create the headers with the 'authorization' header
    headers = {
        'Authorization': 'EMMi ' + emmisid,
        'Content-type': 'application/json; charset=utf-8',
        'Host': 'kuvapankki.valtioneuvosto.fi', 
        'Origin': 'https://kuvapankki.valtioneuvosto.fi',
        'Referer': 'https://kuvapankki.valtioneuvosto.fi/',
        'Accept-language': 'en-GB,en;q=0.9'
    }
    
    ret=[]
    # Define the API URL
    api_url = "https://kuvapankki.valtioneuvosto.fi/api/SearchFiles"
    
    # Params are read from web browser request from page https://kuvapankki.valtioneuvosto.fi/f/Wzpf
    # It is unknown what params actually means except the folder name
           
    post_params =  [[[15,3,[searchtext]     ,0,0]],0,[15,2,20,21,6,-14,-15,-16,-23,-24,-26],None]
    
    
    # Just to format params as JSON
    post_body=json.dumps(post_params)
    
    # Send a GET request to the API URL
    response = session.post(api_url, post_body,headers=headers)
        
    # Check the response
    if response.status_code != 200:
        print("Failed to get data from the API.")
        print(response)
        print(response.request.headers)
        exit(1)
    
    # Parse the response as JSON
    data = response.json()
        
    for row in data: 
        # Skip if not creative commons
        if not 'creativecommons' in json.dumps(row):
            if not 'CC-' in json.dumps(row):
                if not 'cc-' in json.dumps(row):
                    continue
        ret.append(kuvapankkiParseImageRow(row))
    return ret

def kuvapankkiParseImageRow(row):
    r={}
    r['id']=row[0] 
    r['filename']=row[2]
    r['assetcreationtime']=row[3]
    r['assetmodificationtime']=row[4]        
    r['download_id']=int(row[8])
    r['id_str']=row[12]
    r['mimetype']=row[13]
    subrow=row[20]
    r['filename2']=subrow[0]
    r['sub_id']=subrow[1]    
    r['asiasanasto']=subrow[4]
    r['author']=subrow[5]
    r['copyright']=subrow[6]
    r['pose']=subrow[7]
    r['filemodificationtime']=subrow[8]
    r['keywords']=subrow[9]
    if r['keywords']=='' and len(str(subrow[10]))>4:
        r['keywords']=subrow[10]
    return r

def getZacheEdits():
    site = pywikibot.Site('commons', 'commons')  # The site we want to run our bot on
    user = pywikibot.User(site, 'Zache')       # The user whose edits we want to check
    ret=[]
    contribs = user.contributions(total=2000)  # Get the user's last 5000 contributions
    for contrib in contribs:
        ret.append(contrib)
    return ret
    
def findCommonsImageName(kuvapankki_image):
    download_id = kuvapankki_image['download_id']
    kuvapankki_download_url = "https://kuvapankki.valtioneuvosto.fi/download?coid=1&dl=0&fv=" + str(download_id)
    for row in zache_edits:
        # Find url from comment field
        if kuvapankki_download_url in row[3]:
            if "Uploading" in row[3]:
                return row[0]
    return None

def getCommonsLicenseAndAuthor(page):
    text = page.text

    # Find the beginning and end of the license information
    start_marker = "=={{int:license-header}}=="
    start_marker2 = "== {{int:license-header}} =="    
    
    end_marker = "[[Category:"
    start = text.find(start_marker)
    if start == -1:
        start = text.find(start_marker2)
    end = text.find(end_marker)

    if start == -1 or end == -1:
        license_info = "License information not found."
    else:
        # Extract the license information, excluding the header
        license_info = text[start + len(start_marker):end].strip().replace("\n", " ")

    # Extract author information
    author_match = re.search(r'\|\s*photographer\s*=\s*(.*?)\n', text, re.IGNORECASE)
    if author_match:
        author_info = author_match.group(1).strip()
    else:
        author_info = "Author information not found."

    return license_info, author_info

def print_filename(file_name, kuvapankki_image, page):
    print(file_name + " / " + kuvapankki_image['filename'] + " / " + kuvapankki_image['filename2'] + " / " + kuvapankki_image['keywords'])
    print(page.title())
    print("")
    print(page.full_url())
    
def print_author_and_licence(kuvapankki_image, page):    
    commons_licence, commons_author=getCommonsLicenseAndAuthor(page)
    
    print("")
    print("Source author: " + kuvapankki_image['author'])
    print("Commons author: " + commons_author)

    print("")
    print("Source licence: " + kuvapankki_image['copyright'])
    print("Commons licence:" + commons_licence.replace("{{review}}", ""))
    
    if not (
        "CC-BY" in kuvapankki_image['copyright'] 
        or 
        "https://creativecommons.org/licenses/by/4.0" in kuvapankki_image['copyright']
    ) :
        print("VIRHE 1")
        time.sleep(5)
    
    if not "{{CC-BY-4.0}}" in commons_licence:
        print("VIRHE 2")   
        time.sleep(5)
    

    
def fixCopyrightTitle(page):
    originaltext="== Copyright =="
    replacementtext="=={{int:license-header}}=="
    
    if originaltext in page.text:
        newtext=page.text.replace(originaltext,replacementtext)
        summary="Fixing copyright subtitle"
        confirmAndSaveEdit(page, newtext, summary)
    
def confirmAndUpdateLicenceReview(page, file_name, kuvapankki_image ):
#    page_title="User:Zache/edittest"
    
#    site = pywikibot.Site('commons', 'commons')
#    page = pywikibot.Page(site,  page_title)
        
    # Get the current date
    current_date = datetime.now()

    # Format the date
    formatted_date = current_date.strftime('%Y-%m-%d')   
           
    source_template="{{review}}"
    target_template="{{{{LicenseReview|site={site}|user={user}|date={date} }}}}".format(
        site='[https://kuvapankki.valtioneuvosto.fi/ kuvapankki.valtioneuvosto.fi]',
        user=pywikibot.Site().user(),
        date=formatted_date
    )
    newtext = page.text.replace(source_template, target_template)
    if page.text == newtext:
        print("No changes detected")
        return
                                  
    download_id = kuvapankki_image['download_id']
    
    summary='Confirming licence review information for "{file_name}" with name "{name}" and id {download_id}'.format(
        file_name=file_name,
        name=kuvapankki_image['filename'],
        download_id=download_id
    )
    confirmAndSaveEdit(page, newtext, summary)

def confirmAndSaveEdit(page, newtext, summary):
    site = pywikibot.Site('commons', 'commons')
    pywikibot.info('----')
    pywikibot.showDiff(page.text, newtext)

    
    pywikibot.info('Edit summary: {}\n'.format(summary))

    question='Do you want to accept these changes?'
    choice = pywikibot.input_choice(
                question,
                [('Yes', 'Y'),('No', 'n')],
                default='Y',
                automatic_quit=False
            )

    if choice == 'y':
        if site.userinfo['messages']:
            print("Warning: You have received a talk page message. Exiting.")
            exit()

        page.text=newtext
        page.save(summary)
    else:
        pywikibot.info("MANUAL SKIPPING")
                                  
    
#### Main ####

session = requests.Session()

# Do public login to kuvapankki.valtioneuvosto.fi
emmisid = kuvapankkiPublicLogin()

files=filelist.strip().split("\n")
zache_edits=getZacheEdits()


for file_name in files:
    # Original source files are in jpg format
    if file_name != "Kuvapankki.png":
        file_name=file_name.replace(".png", ".jpg")
    
    # Find file in kuvapankki.valtioneuvosto.fi
    kuvapankki_image = kuvapankkiSearchFiles(file_name)
    
    # Check that there is only 1 match 
    if len(kuvapankki_image) != 1:
        print("Not found in kuvapankki: " + file_name)
        print(len(kuvapankki_image))
        break
        
    kuvapankki_image=kuvapankki_image[0]    
    page=findCommonsImageName(kuvapankki_image)
    if not page:
#        print("Not found in commons: " + str(kuvapankki_image))
        continue
        
    if not "{{review}}" in page.text:
#        print("Skipping: " + page.title())
        continue
        
    print("\n-----------------------")
    print_filename(file_name, kuvapankki_image, page)
    print_author_and_licence(kuvapankki_image, page)  

    
    time.sleep(0.25)
    confirmAndUpdateLicenceReview(page, file_name, kuvapankki_image)
#    break
    
        
   
        
   
 
